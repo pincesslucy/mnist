{
  "nbformat": 4,
  "nbformat_minor": 0,
  "metadata": {
    "colab": {
      "provenance": [],
      "mount_file_id": "122pPy4wQfp4mEdHj2sMsO_biS-XbLPhu",
      "authorship_tag": "ABX9TyOzS0Du+M4hjDA2MnO8tGzo",
      "include_colab_link": true
    },
    "kernelspec": {
      "name": "python3",
      "display_name": "Python 3"
    },
    "language_info": {
      "name": "python"
    },
    "accelerator": "GPU",
    "gpuClass": "standard"
  },
  "cells": [
    {
      "cell_type": "markdown",
      "metadata": {
        "id": "view-in-github",
        "colab_type": "text"
      },
      "source": [
        "<a href=\"https://colab.research.google.com/github/pincesslucy/mnist/blob/main/mnist.ipynb\" target=\"_parent\"><img src=\"https://colab.research.google.com/assets/colab-badge.svg\" alt=\"Open In Colab\"/></a>"
      ]
    },
    {
      "cell_type": "code",
      "execution_count": null,
      "metadata": {
        "id": "F1aj-xs0XxIb"
      },
      "outputs": [],
      "source": [
        "from keras.datasets import mnist"
      ]
    },
    {
      "cell_type": "code",
      "source": [
        "(x_train, y_train), (x_test, y_test) = mnist.load_data()"
      ],
      "metadata": {
        "id": "C1NKoSD1YZcl"
      },
      "execution_count": null,
      "outputs": []
    },
    {
      "cell_type": "code",
      "source": [
        "x_train.shape, y_train.shape"
      ],
      "metadata": {
        "colab": {
          "base_uri": "https://localhost:8080/"
        },
        "id": "yN4pYygDYHQN",
        "outputId": "ed851c6a-eb7e-4c1f-d690-eed9e2d750d3"
      },
      "execution_count": null,
      "outputs": [
        {
          "output_type": "execute_result",
          "data": {
            "text/plain": [
              "((60000, 28, 28), (60000,))"
            ]
          },
          "metadata": {},
          "execution_count": 6
        }
      ]
    },
    {
      "cell_type": "code",
      "source": [
        "import matplotlib.pyplot as plt\n",
        "plt.imshow(x_train[0], cmap='gray')\n",
        "plt.axis('off')\n",
        "plt.show()"
      ],
      "metadata": {
        "colab": {
          "base_uri": "https://localhost:8080/",
          "height": 406
        },
        "id": "lUr5Xp19ZgkZ",
        "outputId": "1fa1ac12-8ba1-487a-d79d-bb7797004fce"
      },
      "execution_count": null,
      "outputs": [
        {
          "output_type": "display_data",
          "data": {
            "text/plain": [
              "<Figure size 640x480 with 1 Axes>"
            ],
            "image/png": "[encoded data removed]"
          },
          "metadata": {}
        }
      ]
    },
    {
      "cell_type": "code",
      "source": [
        "x_train, x_test = x_train/255.0, x_test/255.0"
      ],
      "metadata": {
        "id": "1l5SabkigtIb"
      },
      "execution_count": null,
      "outputs": []
    },
    {
      "cell_type": "markdown",
      "source": [
        "##기본NN"
      ],
      "metadata": {
        "id": "Km2nsd9se7Gg"
      }
    },
    {
      "cell_type": "code",
      "source": [
        "import numpy as np\n",
        "import pandas as pd\n",
        "from sklearn.model_selection import train_test_split\n",
        "\n",
        "from tensorflow.keras.models import Sequential\n",
        "from tensorflow.keras.layers import Dense, Flatten, Input\n",
        "from keras.optimizers import Adam\n",
        "from tensorflow import keras"
      ],
      "metadata": {
        "id": "LXl0yqfxcQR2"
      },
      "execution_count": null,
      "outputs": []
    },
    {
      "cell_type": "code",
      "source": [
        "from keras.api._v2.keras import activations\n",
        "input_ = keras.layers.Input(shape=[28,28])\n",
        "flat = keras.layers.Flatten(input_shape=[28,28])(input_)\n",
        "hidden1 = keras.layers.Dense(32, activation='relu')(flat)\n",
        "hidden2 = keras.layers.Dense(32, activation='relu')(hidden1)\n",
        "output = keras.layers.Dense(10, activation='softmax')(hidden2)\n",
        "model = keras.Model(inputs=[input_], outputs=[output])\n",
        "model.summary()"
      ],
      "metadata": {
        "colab": {
          "base_uri": "https://localhost:8080/"
        },
        "id": "bwitJHVUcSRB",
        "outputId": "a82a63f4-f72e-423c-f398-db7c0a99f258"
      },
      "execution_count": null,
      "outputs": [
        {
          "output_type": "stream",
          "name": "stdout",
          "text": [
            "Model: \"model_1\"\n",
            "_________________________________________________________________\n",
            " Layer (type)                Output Shape              Param #   \n",
            "=================================================================\n",
            " input_2 (InputLayer)        [(None, 28, 28)]          0         \n",
            "                                                                 \n",
            " flatten_1 (Flatten)         (None, 784)               0         \n",
            "                                                                 \n",
            " dense_4 (Dense)             (None, 32)                25120     \n",
            "                                                                 \n",
            " dense_5 (Dense)             (None, 32)                1056      \n",
            "                                                                 \n",
            " dense_6 (Dense)             (None, 10)                330       \n",
            "                                                                 \n",
            "=================================================================\n",
            "Total params: 26,506\n",
            "Trainable params: 26,506\n",
            "Non-trainable params: 0\n",
            "_________________________________________________________________\n"
          ]
        }
      ]
    },
    {
      "cell_type": "code",
      "source": [
        "model.compile(loss='sparse_categorical_crossentropy', optimizer=Adam(), metrics=['accuracy'])"
      ],
      "metadata": {
        "id": "7XoEnABPe9fx"
      },
      "execution_count": null,
      "outputs": []
    },
    {
      "cell_type": "code",
      "source": [
        "early_stopping_cb = keras.callbacks.EarlyStopping(patience=20, restore_best_weights=True)"
      ],
      "metadata": {
        "id": "Yom69ruJf_vb"
      },
      "execution_count": null,
      "outputs": []
    },
    {
      "cell_type": "code",
      "source": [
        "history = model.fit(x_train, y_train, batch_size=256, epochs=50000, validation_split=0.1, callbacks=[early_stopping_cb])"
      ],
      "metadata": {
        "colab": {
          "base_uri": "https://localhost:8080/"
        },
        "id": "fF7kf9DvgPCB",
        "outputId": "c1fed7bc-a21b-43c4-afca-8ea95346e7f0"
      },
      "execution_count": null,
      "outputs": [
        {
          "output_type": "stream",
          "name": "stdout",
          "text": [
            "Epoch 1/50000\n",
            "211/211 [==============================] - 2s 6ms/step - loss: 0.7481 - accuracy: 0.7805 - val_loss: 0.2719 - val_accuracy: 0.9223\n",
            "Epoch 2/50000\n",
            "211/211 [==============================] - 1s 4ms/step - loss: 0.2814 - accuracy: 0.9192 - val_loss: 0.1964 - val_accuracy: 0.9453\n",
            "Epoch 3/50000\n",
            "211/211 [==============================] - 1s 4ms/step - loss: 0.2195 - accuracy: 0.9359 - val_loss: 0.1692 - val_accuracy: 0.9527\n",
            "Epoch 4/50000\n",
            "211/211 [==============================] - 1s 4ms/step - loss: 0.1842 - accuracy: 0.9464 - val_loss: 0.1465 - val_accuracy: 0.9600\n",
            "Epoch 5/50000\n",
            "211/211 [==============================] - 1s 4ms/step - loss: 0.1593 - accuracy: 0.9535 - val_loss: 0.1326 - val_accuracy: 0.9648\n",
            "Epoch 6/50000\n",
            "211/211 [==============================] - 1s 4ms/step - loss: 0.1403 - accuracy: 0.9587 - val_loss: 0.1262 - val_accuracy: 0.9647\n",
            "Epoch 7/50000\n",
            "211/211 [==============================] - 1s 4ms/step - loss: 0.1257 - accuracy: 0.9632 - val_loss: 0.1174 - val_accuracy: 0.9673\n",
            "Epoch 8/50000\n",
            "211/211 [==============================] - 1s 4ms/step - loss: 0.1149 - accuracy: 0.9655 - val_loss: 0.1131 - val_accuracy: 0.9677\n",
            "Epoch 9/50000\n",
            "211/211 [==============================] - 1s 4ms/step - loss: 0.1056 - accuracy: 0.9689 - val_loss: 0.1094 - val_accuracy: 0.9688\n",
            "Epoch 10/50000\n",
            "211/211 [==============================] - 1s 6ms/step - loss: 0.0972 - accuracy: 0.9715 - val_loss: 0.1072 - val_accuracy: 0.9683\n",
            "Epoch 11/50000\n",
            "211/211 [==============================] - 1s 7ms/step - loss: 0.0904 - accuracy: 0.9736 - val_loss: 0.1083 - val_accuracy: 0.9672\n",
            "Epoch 12/50000\n",
            "211/211 [==============================] - 1s 5ms/step - loss: 0.0849 - accuracy: 0.9749 - val_loss: 0.1027 - val_accuracy: 0.9697\n",
            "Epoch 13/50000\n",
            "211/211 [==============================] - 1s 4ms/step - loss: 0.0794 - accuracy: 0.9766 - val_loss: 0.1026 - val_accuracy: 0.9687\n",
            "Epoch 14/50000\n",
            "211/211 [==============================] - 1s 4ms/step - loss: 0.0746 - accuracy: 0.9783 - val_loss: 0.1000 - val_accuracy: 0.9687\n",
            "Epoch 15/50000\n",
            "211/211 [==============================] - 1s 4ms/step - loss: 0.0707 - accuracy: 0.9796 - val_loss: 0.1046 - val_accuracy: 0.9667\n",
            "Epoch 16/50000\n",
            "211/211 [==============================] - 1s 4ms/step - loss: 0.0680 - accuracy: 0.9801 - val_loss: 0.1028 - val_accuracy: 0.9702\n",
            "Epoch 17/50000\n",
            "211/211 [==============================] - 1s 4ms/step - loss: 0.0630 - accuracy: 0.9814 - val_loss: 0.1027 - val_accuracy: 0.9690\n",
            "Epoch 18/50000\n",
            "211/211 [==============================] - 1s 4ms/step - loss: 0.0601 - accuracy: 0.9822 - val_loss: 0.1086 - val_accuracy: 0.9677\n",
            "Epoch 19/50000\n",
            "211/211 [==============================] - 1s 4ms/step - loss: 0.0583 - accuracy: 0.9827 - val_loss: 0.1113 - val_accuracy: 0.9693\n",
            "Epoch 20/50000\n",
            "211/211 [==============================] - 1s 4ms/step - loss: 0.0537 - accuracy: 0.9841 - val_loss: 0.1050 - val_accuracy: 0.9703\n",
            "Epoch 21/50000\n",
            "211/211 [==============================] - 1s 5ms/step - loss: 0.0524 - accuracy: 0.9845 - val_loss: 0.1083 - val_accuracy: 0.9690\n",
            "Epoch 22/50000\n",
            "211/211 [==============================] - 1s 5ms/step - loss: 0.0499 - accuracy: 0.9851 - val_loss: 0.1001 - val_accuracy: 0.9717\n",
            "Epoch 23/50000\n",
            "211/211 [==============================] - 1s 6ms/step - loss: 0.0465 - accuracy: 0.9863 - val_loss: 0.1057 - val_accuracy: 0.9687\n",
            "Epoch 24/50000\n",
            "211/211 [==============================] - 1s 7ms/step - loss: 0.0442 - accuracy: 0.9871 - val_loss: 0.1052 - val_accuracy: 0.9717\n",
            "Epoch 25/50000\n",
            "211/211 [==============================] - 1s 5ms/step - loss: 0.0431 - accuracy: 0.9874 - val_loss: 0.1096 - val_accuracy: 0.9677\n",
            "Epoch 26/50000\n",
            "211/211 [==============================] - 1s 4ms/step - loss: 0.0409 - accuracy: 0.9879 - val_loss: 0.1089 - val_accuracy: 0.9710\n",
            "Epoch 27/50000\n",
            "211/211 [==============================] - 1s 4ms/step - loss: 0.0384 - accuracy: 0.9885 - val_loss: 0.1093 - val_accuracy: 0.9700\n",
            "Epoch 28/50000\n",
            "211/211 [==============================] - 1s 4ms/step - loss: 0.0372 - accuracy: 0.9892 - val_loss: 0.1124 - val_accuracy: 0.9703\n",
            "Epoch 29/50000\n",
            "211/211 [==============================] - 1s 4ms/step - loss: 0.0351 - accuracy: 0.9898 - val_loss: 0.1172 - val_accuracy: 0.9697\n",
            "Epoch 30/50000\n",
            "211/211 [==============================] - 1s 4ms/step - loss: 0.0337 - accuracy: 0.9902 - val_loss: 0.1166 - val_accuracy: 0.9703\n",
            "Epoch 31/50000\n",
            "211/211 [==============================] - 1s 4ms/step - loss: 0.0323 - accuracy: 0.9907 - val_loss: 0.1129 - val_accuracy: 0.9697\n",
            "Epoch 32/50000\n",
            "211/211 [==============================] - 1s 4ms/step - loss: 0.0309 - accuracy: 0.9909 - val_loss: 0.1118 - val_accuracy: 0.9708\n",
            "Epoch 33/50000\n",
            "211/211 [==============================] - 1s 4ms/step - loss: 0.0291 - accuracy: 0.9916 - val_loss: 0.1172 - val_accuracy: 0.9710\n",
            "Epoch 34/50000\n",
            "211/211 [==============================] - 1s 4ms/step - loss: 0.0284 - accuracy: 0.9917 - val_loss: 0.1166 - val_accuracy: 0.9708\n"
          ]
        }
      ]
    },
    {
      "cell_type": "code",
      "source": [
        "model.evaluate(x_test, y_test)"
      ],
      "metadata": {
        "colab": {
          "base_uri": "https://localhost:8080/"
        },
        "id": "AiBQeJaMjouY",
        "outputId": "f9e704e0-9173-4463-b0c0-128c6f115373"
      },
      "execution_count": null,
      "outputs": [
        {
          "output_type": "stream",
          "name": "stdout",
          "text": [
            "313/313 [==============================] - 1s 2ms/step - loss: 0.1062 - accuracy: 0.9669\n"
          ]
        },
        {
          "output_type": "execute_result",
          "data": {
            "text/plain": [
              "[0.1062437891960144, 0.9668999910354614]"
            ]
          },
          "metadata": {},
          "execution_count": 25
        }
      ]
    },
    {
      "cell_type": "code",
      "source": [
        "from PIL import Image\n",
        "\n",
        "# 이미지 파일 경로 지정\n",
        "image_file = \"/content/drive/MyDrive/Colab Notebooks/data/mnist/5_1.png\"\n",
        "\n",
        "# 이미지 불러오기\n",
        "image = Image.open(image_file)\n",
        "\n",
        "# 이미지 크기 변경 및 흑백 처리\n",
        "image = image.convert('L').resize((28, 28))\n",
        "\n",
        "# 이미지 데이터를 numpy 배열로 변환\n",
        "image_array = np.array(image)\n",
        "\n",
        "# 배열 크기를 [1, 28, 28]로 변환\n",
        "image_array = image_array.reshape([1,28, 28])\n",
        "\n",
        "# 결과 출력\n",
        "print(image_array.shape)\n"
      ],
      "metadata": {
        "colab": {
          "base_uri": "https://localhost:8080/"
        },
        "id": "QYYuEu4dmAOQ",
        "outputId": "f4c71801-6f1b-42f0-eb4d-6b58038ffff6"
      },
      "execution_count": null,
      "outputs": [
        {
          "output_type": "stream",
          "name": "stdout",
          "text": [
            "(1, 28, 28)\n"
          ]
        }
      ]
    },
    {
      "cell_type": "code",
      "source": [
        "plt.imshow(image_array[0], cmap='gray')\n",
        "plt.axis('off')\n",
        "plt.show()"
      ],
      "metadata": {
        "colab": {
          "base_uri": "https://localhost:8080/",
          "height": 406
        },
        "id": "CZgt-Awspfhw",
        "outputId": "d0e1a41f-19f2-4fba-8e33-fc3d6f2d7b42"
      },
      "execution_count": null,
      "outputs": [
        {
          "output_type": "display_data",
          "data": {
            "text/plain": [
              "<Figure size 640x480 with 1 Axes>"
            ],
            "image/png": "[encoded data removed]"
          },
          "metadata": {}
        }
      ]
    },
    {
      "cell_type": "code",
      "source": [
        "image_sample = image_array/255.0"
      ],
      "metadata": {
        "id": "eEQbYqscmXBP"
      },
      "execution_count": null,
      "outputs": []
    },
    {
      "cell_type": "code",
      "source": [
        "y_pred = model.predict(image_sample)\n",
        "pred_classes = np.argmax(y_pred, axis=1)\n",
        "pred_classes"
      ],
      "metadata": {
        "colab": {
          "base_uri": "https://localhost:8080/"
        },
        "id": "6K8IOtbXmjwV",
        "outputId": "f7e5ec0e-1fd1-49bf-f378-d698e6fc12bb"
      },
      "execution_count": null,
      "outputs": [
        {
          "output_type": "stream",
          "name": "stdout",
          "text": [
            "1/1 [==============================] - 0s 23ms/step\n"
          ]
        },
        {
          "output_type": "execute_result",
          "data": {
            "text/plain": [
              "array([3])"
            ]
          },
          "metadata": {},
          "execution_count": 70
        }
      ]
    }
  ]
}